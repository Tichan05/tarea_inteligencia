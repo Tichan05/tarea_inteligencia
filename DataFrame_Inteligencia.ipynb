{
 "cells": [
  {
   "cell_type": "code",
   "execution_count": 1,
   "id": "8d34656e",
   "metadata": {},
   "outputs": [],
   "source": [
    "import pandas as pd\n",
    "df_tutor=pd.read_csv('Tutor.csv')\n",
    "df_estudiante=pd.read_csv('Estudiante.csv')\n",
    "df_seccion=pd.read_csv('Seccion.csv')\n",
    "df_matricula=pd.read_csv('Matricula.csv')\n",
    "df_hechos=pd.read_csv('hechos.json')"
   ]
  },
  {
   "cell_type": "code",
   "execution_count": null,
   "id": "78acb88d",
   "metadata": {
    "scrolled": true
   },
   "outputs": [],
   "source": [
    "df_hechos.merge(df_seccion, how=\"inner\", on=\"seccionID\")"
   ]
  },
  {
   "cell_type": "code",
   "execution_count": null,
   "id": "c2b737be",
   "metadata": {},
   "outputs": [],
   "source": [
    "df_hechos.merge(df_tutor, how=\"inner\", on=\"tutorID\")"
   ]
  },
  {
   "cell_type": "code",
   "execution_count": null,
   "id": "307c89fd",
   "metadata": {},
   "outputs": [],
   "source": [
    "df_hechos.merge(df_estudiante, how=\"inner\", on=\"estudianteID\")"
   ]
  },
  {
   "cell_type": "code",
   "execution_count": null,
   "id": "0aaa3d02",
   "metadata": {},
   "outputs": [],
   "source": [
    "df_hechos.merge(df_matricula, how=\"inner\", on=\"matriculaID\")"
   ]
  },
  {
   "cell_type": "code",
   "execution_count": null,
   "id": "acad84b9",
   "metadata": {},
   "outputs": [],
   "source": [
    "print(df_hechos[\"monto\"])"
   ]
  },
  {
   "cell_type": "code",
   "execution_count": null,
   "id": "d34c0467",
   "metadata": {},
   "outputs": [],
   "source": [
    "df_monto=df_hechos.merge(df_estudiante, how=\"inner\", on=\"estudianteID\")"
   ]
  },
  {
   "cell_type": "code",
   "execution_count": null,
   "id": "41b64ef5",
   "metadata": {},
   "outputs": [],
   "source": [
    "df_mayor=df_hechos.merge(df_matricula, how=\"inner\", on=\"matriculaID\")"
   ]
  },
  {
   "cell_type": "code",
   "execution_count": null,
   "id": "f87ddccc",
   "metadata": {},
   "outputs": [],
   "source": [
    "df_menor=df_hechos.merge(df_seccion, how=\"inner\", on=\"seccionID\")"
   ]
  }
 ],
 "metadata": {
  "kernelspec": {
   "display_name": "Python 3 (ipykernel)",
   "language": "python",
   "name": "python3"
  },
  "language_info": {
   "codemirror_mode": {
    "name": "ipython",
    "version": 3
   },
   "file_extension": ".py",
   "mimetype": "text/x-python",
   "name": "python",
   "nbconvert_exporter": "python",
   "pygments_lexer": "ipython3",
   "version": "3.10.7"
  }
 },
 "nbformat": 4,
 "nbformat_minor": 5
}
